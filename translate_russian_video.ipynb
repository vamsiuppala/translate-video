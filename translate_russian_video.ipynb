{
 "cells": [
  {
   "cell_type": "code",
   "execution_count": 4,
   "metadata": {},
   "outputs": [],
   "source": [
    "import pytube as pt\n",
    "import os\n",
    "import re\n",
    "from deep_translator import GoogleTranslator\n",
    "import assemblyai as aai\n",
    "import config as cfg"
   ]
  },
  {
   "cell_type": "markdown",
   "metadata": {},
   "source": [
    "### define functions"
   ]
  },
  {
   "cell_type": "code",
   "execution_count": 5,
   "metadata": {},
   "outputs": [],
   "source": [
    "def replace_special_chars(text):\n",
    "    ''' \n",
    "    Replace special characters in strings with underscores\n",
    "    '''\n",
    "    # Define the pattern to match special characters and spaces\n",
    "    pattern = r'[^a-zA-Z0-9]+'\n",
    "    # Replace the matched pattern with underscores\n",
    "    replaced_text = re.sub(pattern, '_', text)\n",
    "    return replaced_text"
   ]
  },
  {
   "cell_type": "code",
   "execution_count": 6,
   "metadata": {},
   "outputs": [],
   "source": [
    "directory = 'files/'\n",
    "os.makedirs(directory, exist_ok=True)"
   ]
  },
  {
   "cell_type": "markdown",
   "metadata": {},
   "source": [
    "### fetch video title from YouTube"
   ]
  },
  {
   "cell_type": "code",
   "execution_count": 3,
   "metadata": {},
   "outputs": [],
   "source": [
    "video_url = \"https://www.youtube.com/watch?v=_LYe58b-3HM\"\n",
    "yt = pt.YouTube(video_url)\n",
    "# get title\n",
    "title_name = ((yt.title))\n",
    "translated_title = GoogleTranslator(source='auto', target='en').translate(title_name)\n",
    "translated_title_edited = replace_special_chars(translated_title)"
   ]
  },
  {
   "cell_type": "code",
   "execution_count": 11,
   "metadata": {},
   "outputs": [],
   "source": [
    "# not using the name generated above, to keep it simple\n",
    "video_name = 'me_and_others'"
   ]
  },
  {
   "cell_type": "markdown",
   "metadata": {},
   "source": [
    "### download video"
   ]
  },
  {
   "cell_type": "code",
   "execution_count": 12,
   "metadata": {},
   "outputs": [
    {
     "data": {
      "text/plain": [
       "'/Users/vamsiuppala/Documents/translate-russian-video/files//me_and_others.wav'"
      ]
     },
     "execution_count": 12,
     "metadata": {},
     "output_type": "execute_result"
    }
   ],
   "source": [
    "video_name = 'me_and_others'\n",
    "video_url = \"https://www.youtube.com/watch?v=_LYe58b-3HM\"\n",
    "\n",
    "yt = pt.YouTube(video_url)\n",
    "stream = yt.streams.filter(only_audio=True)[0]\n",
    "stream.download(filename = directory + '/' + video_name + '.wav')"
   ]
  },
  {
   "cell_type": "markdown",
   "metadata": {},
   "source": [
    "### transcribe"
   ]
  },
  {
   "cell_type": "code",
   "execution_count": 15,
   "metadata": {},
   "outputs": [],
   "source": [
    "aai.settings.api_key = cfg.keys['aai_api_key']\n",
    "transcriber = aai.Transcriber()"
   ]
  },
  {
   "cell_type": "code",
   "execution_count": 16,
   "metadata": {},
   "outputs": [],
   "source": [
    "audio_url = (\n",
    "    \"files/me_and_others.wav\"\n",
    ")\n",
    "\n",
    "config = aai.TranscriptionConfig(speaker_labels=True, language_code='ru')\n",
    "\n",
    "transcript = transcriber.transcribe(\n",
    "    audio_url, \n",
    "    config\n",
    ")"
   ]
  },
  {
   "cell_type": "code",
   "execution_count": 17,
   "metadata": {},
   "outputs": [],
   "source": [
    "with open(directory + '/' + 'me_and_others_transcribed' + '.txt', 'w') as file:\n",
    "    for utterance in transcript.utterances:\n",
    "        file.write(f\"Speaker {utterance.speaker}: {utterance.text} \\n\")\n",
    "    file.close()"
   ]
  },
  {
   "cell_type": "markdown",
   "metadata": {},
   "source": [
    "### translate"
   ]
  },
  {
   "cell_type": "code",
   "execution_count": 30,
   "metadata": {},
   "outputs": [],
   "source": [
    "# Open transcript as text file\n",
    "with open(directory + '/' + 'me_and_others_transcribed' + '.txt', 'r') as file:\n",
    "    text = file.read()\n",
    "    file.close()\n",
    "\n",
    "# Chunk the text into sentences split by '\\n'\n",
    "chunks = text.split('\\n')\n",
    "\n",
    "# translate each chunk\n",
    "translated_chunks = [GoogleTranslator(source='auto', target='en').translate(chunk) for chunk in chunks]\n",
    "\n",
    "# join the chunks back\n",
    "translated_transcript = '\\n'.join(translated_chunks)\n",
    "with open(directory + '/' + 'me_and_others_transcribed_and_translated' + '.txt', 'w') as file:\n",
    "    file.write(translated_transcript)\n",
    "    file.close()"
   ]
  },
  {
   "cell_type": "markdown",
   "metadata": {},
   "source": [
    "### make it more colloquial"
   ]
  },
  {
   "cell_type": "code",
   "execution_count": 19,
   "metadata": {},
   "outputs": [],
   "source": [
    "import config as cfg"
   ]
  },
  {
   "cell_type": "code",
   "execution_count": 20,
   "metadata": {},
   "outputs": [],
   "source": [
    "from openai import OpenAI\n",
    "client = OpenAI(\n",
    "    api_key = cfg.keys['openai_token']\n",
    ")"
   ]
  },
  {
   "cell_type": "code",
   "execution_count": 21,
   "metadata": {},
   "outputs": [],
   "source": [
    "def colloquialize(sys_def, model, content):\n",
    "    c = client.chat.completions.create(\n",
    "        model=model,\n",
    "        messages=[\n",
    "            {\"role\": \"system\", \"content\": sys_def},\n",
    "            {\"role\": \"user\", \"content\": content}\n",
    "        ]\n",
    "    )   \n",
    "\n",
    "    return (c.choices[0].message.content)"
   ]
  },
  {
   "cell_type": "code",
   "execution_count": 28,
   "metadata": {},
   "outputs": [],
   "source": [
    "translator_sys = \"You are a professional English language expert who can convert old formal English writeups into colloquial semi formal language. You maintain a semi professional tone and retain as much context as possible.\""
   ]
  },
  {
   "cell_type": "code",
   "execution_count": 31,
   "metadata": {},
   "outputs": [],
   "source": [
    "# Open transcript as text file\n",
    "with open(directory + '/' + 'me_and_others_transcribed_and_translated' + '.txt', 'r') as file:\n",
    "    text = file.read()\n",
    "    file.close()\n",
    "\n",
    "# Chunk the text into sentences split by '\\n'\n",
    "chunks = text.split('\\n')\n",
    "\n",
    "# translate each chunk\n",
    "colloquialized_chunks = [colloquialize(translator_sys, \"gpt-3.5-turbo\", chunk) for chunk in chunks]\n",
    "\n",
    "# join the chunks back\n",
    "colloquialized_transcript = '\\n'.join(colloquialized_chunks)\n",
    "with open(directory + '/' + 'me_and_others_transcribed_translated_colloquialzied' + '.txt', 'w') as file:\n",
    "    file.write(colloquialized_transcript)\n",
    "    file.close()"
   ]
  },
  {
   "cell_type": "code",
   "execution_count": null,
   "metadata": {},
   "outputs": [],
   "source": []
  }
 ],
 "metadata": {
  "kernelspec": {
   "display_name": "ds",
   "language": "python",
   "name": "python3"
  },
  "language_info": {
   "codemirror_mode": {
    "name": "ipython",
    "version": 3
   },
   "file_extension": ".py",
   "mimetype": "text/x-python",
   "name": "python",
   "nbconvert_exporter": "python",
   "pygments_lexer": "ipython3",
   "version": "3.12.2"
  }
 },
 "nbformat": 4,
 "nbformat_minor": 2
}
